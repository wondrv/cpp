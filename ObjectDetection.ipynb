{
  "cells": [
    {
      "cell_type": "markdown",
      "metadata": {
        "id": "view-in-github",
        "colab_type": "text"
      },
      "source": [
        "<a href=\"https://colab.research.google.com/github/wondrv/cpp/blob/main/ObjectDetection.ipynb\" target=\"_parent\"><img src=\"https://colab.research.google.com/assets/colab-badge.svg\" alt=\"Open In Colab\"/></a>"
      ]
    },
    {
      "cell_type": "code",
      "source": [
        "import cv2\n",
        "from google.colab.patches import cv2_imshow\n",
        "from google.colab import files\n",
        "\n",
        "# Upload video dari laptop\n",
        "uploaded = files.upload()  # akan muncul tombol upload\n",
        "\n",
        "# Ganti dengan nama file video yang diupload\n",
        "video_path = next(iter(uploaded))  # otomatis ambil nama file pertama\n",
        "cap = cv2.VideoCapture(video_path)\n",
        "\n",
        "fgbg = cv2.createBackgroundSubtractorMOG2()\n",
        "\n",
        "frame_count = 0  # untuk batasi jumlah frame yang ditampilkan di Colab\n",
        "\n",
        "while cap.isOpened():\n",
        "    ret, frame = cap.read()\n",
        "    if not ret or frame_count > 50:  # batasi 50 frame agar tidak overload\n",
        "        break\n",
        "\n",
        "    fgmask = fgbg.apply(frame)\n",
        "    contours, _ = cv2.findContours(fgmask, cv2.RETR_TREE, cv2.CHAIN_APPROX_SIMPLE)\n",
        "\n",
        "    for cnt in contours:\n",
        "        area = cv2.contourArea(cnt)\n",
        "        if area > 500:\n",
        "            x, y, w, h = cv2.boundingRect(cnt)\n",
        "            cv2.rectangle(frame, (x, y), (x + w, y + h), (0, 255, 0), 2)\n",
        "\n",
        "    # Tampilkan frame\n",
        "    cv2_imshow(frame)\n",
        "    frame_count += 1\n",
        "\n",
        "cap.release()\n"
      ],
      "metadata": {
        "id": "lZbmxuo3ngti"
      },
      "execution_count": null,
      "outputs": []
    }
  ],
  "metadata": {
    "colab": {
      "name": "Welcome To Colab",
      "provenance": [],
      "include_colab_link": true
    },
    "kernelspec": {
      "display_name": "Python 3",
      "name": "python3"
    }
  },
  "nbformat": 4,
  "nbformat_minor": 0
}